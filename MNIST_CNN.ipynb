{
  "nbformat": 4,
  "nbformat_minor": 0,
  "metadata": {
    "colab": {
      "provenance": [],
      "gpuType": "V28",
      "authorship_tag": "ABX9TyOeCVNFzTKwKYbd2d6gnlPQ",
      "include_colab_link": true
    },
    "kernelspec": {
      "name": "python3",
      "display_name": "Python 3"
    },
    "language_info": {
      "name": "python"
    },
    "accelerator": "TPU"
  },
  "cells": [
    {
      "cell_type": "markdown",
      "metadata": {
        "id": "view-in-github",
        "colab_type": "text"
      },
      "source": [
        "<a href=\"https://colab.research.google.com/github/KaiaLee/CNN_practice/blob/main/MNIST_CNN.ipynb\" target=\"_parent\"><img src=\"https://colab.research.google.com/assets/colab-badge.svg\" alt=\"Open In Colab\"/></a>"
      ]
    },
    {
      "cell_type": "markdown",
      "source": [
        "分別使用簡單CNN架構和Yann LeCun 等人，1998 年提出的LeNet-5 架構進行MNIST數字辨識。"
      ],
      "metadata": {
        "id": "2lnaGUBPW2ux"
      }
    },
    {
      "cell_type": "code",
      "execution_count": 23,
      "metadata": {
        "id": "Hb1KjBYVFNs3"
      },
      "outputs": [],
      "source": [
        "# 載入必要的庫\n",
        "import numpy as np\n",
        "import matplotlib.pyplot as plt\n",
        "import tensorflow as tf\n",
        "from tensorflow.keras import layers, models\n",
        "from tensorflow.keras.datasets import mnist"
      ]
    },
    {
      "cell_type": "code",
      "source": [
        "# 載入 MNIST 數據集\n",
        "(train_images, train_labels), (test_images, test_labels) = mnist.load_data()\n",
        "\n",
        "# 顯示數據集的尺寸\n",
        "print('Training images shape:', train_images.shape)\n",
        "print('Training labels shape:', train_labels.shape)\n",
        "print('Test images shape:', test_images.shape)\n",
        "print('Test labels shape:', test_labels.shape)"
      ],
      "metadata": {
        "colab": {
          "base_uri": "https://localhost:8080/"
        },
        "id": "bVC0FKFOFfAh",
        "outputId": "a94f2847-747a-41ab-f5c7-f0a0f9a96f4d"
      },
      "execution_count": 2,
      "outputs": [
        {
          "output_type": "stream",
          "name": "stdout",
          "text": [
            "Downloading data from https://storage.googleapis.com/tensorflow/tf-keras-datasets/mnist.npz\n",
            "11490434/11490434 [==============================] - 0s 0us/step\n",
            "Training images shape: (60000, 28, 28)\n",
            "Training labels shape: (60000,)\n",
            "Test images shape: (10000, 28, 28)\n",
            "Test labels shape: (10000,)\n"
          ]
        }
      ]
    },
    {
      "cell_type": "code",
      "source": [
        "import matplotlib.pyplot as plt\n",
        "\n",
        "# 建立函數要來畫多圖的\n",
        "def plot_images_labels_prediction(images,labels,prediction,idx,num=10):\n",
        "\n",
        "  # 設定顯示圖形的大小\n",
        "  fig= plt.gcf()\n",
        "  fig.set_size_inches(12,14)\n",
        "\n",
        "  # 最多25張\n",
        "  if num>25:num=25\n",
        "\n",
        "  # 一張一張畫\n",
        "  for i in range(0,num):\n",
        "\n",
        "    # 建立子圖形5*5(五行五列)\n",
        "    ax=plt.subplot(5,5,i+1)\n",
        "\n",
        "    # 畫出子圖形\n",
        "    ax.imshow(images[idx],cmap='binary')\n",
        "\n",
        "    # 標題和label\n",
        "    title=\"label=\" +str(labels[idx])\n",
        "\n",
        "    # 如果有傳入預測結果也顯示\n",
        "    if len(prediction)>0:\n",
        "      title+=\",predict=\"+str(prediction[idx])\n",
        "\n",
        "    # 設定子圖形的標題大小\n",
        "    ax.set_title(title,fontsize=10)\n",
        "\n",
        "    # 設定不顯示刻度\n",
        "    ax.set_xticks([]);ax.set_yticks([])\n",
        "    idx+=1\n",
        "  plt.show()\n",
        "\n",
        "plot_images_labels_prediction(train_images,train_labels,[],0,10)"
      ],
      "metadata": {
        "colab": {
          "base_uri": "https://localhost:8080/",
          "height": 439
        },
        "id": "WxCLv5mhFiFl",
        "outputId": "c06cc675-debc-4824-9f7c-8b432210c3ae"
      },
      "execution_count": 5,
      "outputs": [
        {
          "output_type": "display_data",
          "data": {
            "text/plain": [
              "<Figure size 1200x1400 with 10 Axes>"
            ],
            "image/png": "[encoded data removed]"
          },
          "metadata": {}
        }
      ]
    },
    {
      "cell_type": "markdown",
      "source": [
        "# 簡單CNN架構"
      ],
      "metadata": {
        "id": "PhKwljwTWx45"
      }
    },
    {
      "cell_type": "markdown",
      "source": [
        "step 1. 載入 MNIST 數據集"
      ],
      "metadata": {
        "id": "7vjCFTK0WtUG"
      }
    },
    {
      "cell_type": "code",
      "source": [
        "# 載入 MNIST 數據集\n",
        "(x_train, y_train), (x_test, y_test) = tf.keras.datasets.mnist.load_data()"
      ],
      "metadata": {
        "id": "pQ-yXiRnX9lb"
      },
      "execution_count": 24,
      "outputs": []
    },
    {
      "cell_type": "markdown",
      "source": [
        " 將每張 28x28 像素的圖像重塑為四維數組 (批量大小batch size, 高度, 寬度, 通道數)，讓形狀符合 CNN 模型的輸入要求。\\\n",
        " astype('float32')：將數據類型轉換為 float32，這是深度學習框架（如 TensorFlow/Keras）常用的數據類型，可以提高計算效率和數值穩定性。\\\n",
        " / 255：將像素值從範圍 [0, 255] 轉換為 [0, 1] 範圍。這樣做有助於加快模型收斂速度，並提高訓練的穩定性。"
      ],
      "metadata": {
        "id": "cKGURuITYhHT"
      }
    },
    {
      "cell_type": "code",
      "source": [
        "# 正規化數據\n",
        "x_train = x_train.reshape((x_train.shape[0], 28, 28, 1)).astype('float32') / 255\n",
        "x_test = x_test.reshape((x_test.shape[0], 28, 28, 1)).astype('float32') / 255\n",
        "\n",
        "# 檢查數據\n",
        "plt.imshow(train_images[0], cmap='gray')\n",
        "plt.title(f'Label: {train_labels[0]}')\n",
        "plt.show()"
      ],
      "metadata": {
        "colab": {
          "base_uri": "https://localhost:8080/",
          "height": 452
        },
        "id": "Q5mHHbf2GlQf",
        "outputId": "a6914818-f208-4e80-df15-3e1bbe2f96ee"
      },
      "execution_count": 25,
      "outputs": [
        {
          "output_type": "display_data",
          "data": {
            "text/plain": [
              "<Figure size 640x480 with 1 Axes>"
            ],
            "image/png": "[encoded data removed]"
          },
          "metadata": {}
        }
      ]
    },
    {
      "cell_type": "markdown",
      "source": [
        "step 2. 建立簡單的 CNN 模型"
      ],
      "metadata": {
        "id": "B7CG2CEprV0s"
      }
    },
    {
      "cell_type": "code",
      "source": [
        "# 建立模型\n",
        "model = models.Sequential([\n",
        "    layers.Conv2D(32, (3, 3), activation='relu', input_shape=(28, 28, 1)),\n",
        "    layers.MaxPooling2D((2, 2)),\n",
        "    layers.Conv2D(64, (3, 3), activation='relu'),\n",
        "    layers.MaxPooling2D((2, 2)),\n",
        "    layers.Conv2D(64, (3, 3), activation='relu'),\n",
        "    layers.Flatten(),\n",
        "    layers.Dense(64, activation='relu'),\n",
        "    layers.Dense(10, activation='softmax')\n",
        "])\n",
        "\n",
        "# 編譯模型\n",
        "model.compile(optimizer='adam',\n",
        "              loss='sparse_categorical_crossentropy',\n",
        "              metrics=['accuracy'])"
      ],
      "metadata": {
        "id": "6N2TGKctSgEh"
      },
      "execution_count": 26,
      "outputs": []
    },
    {
      "cell_type": "markdown",
      "source": [
        "step 3. 編譯模型"
      ],
      "metadata": {
        "id": "qstp4kJjaKem"
      }
    },
    {
      "cell_type": "code",
      "source": [
        "# 編譯模型\n",
        "model.compile(optimizer='adam',\n",
        "              loss='sparse_categorical_crossentropy',\n",
        "              metrics=['accuracy'])"
      ],
      "metadata": {
        "id": "XbwtCMvhaIkC"
      },
      "execution_count": 27,
      "outputs": []
    },
    {
      "cell_type": "markdown",
      "source": [
        "step 4. 訓練"
      ],
      "metadata": {
        "id": "rPGA0xHVaMM0"
      }
    },
    {
      "cell_type": "code",
      "source": [
        "# 訓練模型\n",
        "history = model.fit(x_train, y_train, epochs=5, batch_size=64, validation_split=0.1)"
      ],
      "metadata": {
        "colab": {
          "base_uri": "https://localhost:8080/"
        },
        "id": "9krk6gAaaFwN",
        "outputId": "756cec16-ed9f-4b3a-8ef1-c3d8638f8d3e"
      },
      "execution_count": 28,
      "outputs": [
        {
          "output_type": "stream",
          "name": "stdout",
          "text": [
            "Epoch 1/5\n",
            "844/844 [==============================] - 8s 9ms/step - loss: 0.2005 - accuracy: 0.9397 - val_loss: 0.0677 - val_accuracy: 0.9810\n",
            "Epoch 2/5\n",
            "844/844 [==============================] - 7s 8ms/step - loss: 0.0573 - accuracy: 0.9824 - val_loss: 0.0539 - val_accuracy: 0.9858\n",
            "Epoch 3/5\n",
            "844/844 [==============================] - 7s 9ms/step - loss: 0.0401 - accuracy: 0.9870 - val_loss: 0.0368 - val_accuracy: 0.9883\n",
            "Epoch 4/5\n",
            "844/844 [==============================] - 7s 9ms/step - loss: 0.0306 - accuracy: 0.9901 - val_loss: 0.0381 - val_accuracy: 0.9892\n",
            "Epoch 5/5\n",
            "844/844 [==============================] - 8s 9ms/step - loss: 0.0245 - accuracy: 0.9923 - val_loss: 0.0373 - val_accuracy: 0.9882\n"
          ]
        }
      ]
    },
    {
      "cell_type": "markdown",
      "source": [
        "step 5. 評估"
      ],
      "metadata": {
        "id": "VIf0IpJ3aQCL"
      }
    },
    {
      "cell_type": "code",
      "source": [
        "test_loss, test_acc = model.evaluate(x_test, y_test)\n",
        "print(f'Test accuracy: {test_acc}')"
      ],
      "metadata": {
        "colab": {
          "base_uri": "https://localhost:8080/"
        },
        "id": "QbXq_1nkaWQ3",
        "outputId": "6f44630c-74b1-43bc-b482-a4235cb807b3"
      },
      "execution_count": 29,
      "outputs": [
        {
          "output_type": "stream",
          "name": "stdout",
          "text": [
            "313/313 [==============================] - 1s 3ms/step - loss: 0.0335 - accuracy: 0.9894\n",
            "Test accuracy: 0.9894000291824341\n"
          ]
        }
      ]
    },
    {
      "cell_type": "code",
      "source": [
        "# 6. 繪製訓練過程中的準確率變化\n",
        "plt.plot(history.history['accuracy'], label='accuracy')\n",
        "plt.plot(history.history['val_accuracy'], label = 'val_accuracy')\n",
        "plt.xlabel('Epoch')\n",
        "plt.ylabel('Accuracy')\n",
        "plt.ylim([0, 1])\n",
        "plt.legend(loc='lower right')\n",
        "plt.show()"
      ],
      "metadata": {
        "colab": {
          "base_uri": "https://localhost:8080/",
          "height": 455
        },
        "id": "MMaeOTW9aasF",
        "outputId": "cc0a9f83-c226-404b-cc86-1a4b832f4fe2"
      },
      "execution_count": 30,
      "outputs": [
        {
          "output_type": "display_data",
          "data": {
            "text/plain": [
              "<Figure size 640x480 with 1 Axes>"
            ],
            "image/png": "[encoded data removed]"
          },
          "metadata": {}
        }
      ]
    },
    {
      "cell_type": "code",
      "source": [
        "# 檢查模型架構\n",
        "model.summary()"
      ],
      "metadata": {
        "colab": {
          "base_uri": "https://localhost:8080/"
        },
        "id": "PPD8PDM9s0Vf",
        "outputId": "fd0bb63f-6918-419e-ed90-b4c932d46179"
      },
      "execution_count": 31,
      "outputs": [
        {
          "output_type": "stream",
          "name": "stdout",
          "text": [
            "Model: \"sequential_5\"\n",
            "_________________________________________________________________\n",
            " Layer (type)                Output Shape              Param #   \n",
            "=================================================================\n",
            " conv2d_15 (Conv2D)          (None, 26, 26, 32)        320       \n",
            "                                                                 \n",
            " max_pooling2d_6 (MaxPoolin  (None, 13, 13, 32)        0         \n",
            " g2D)                                                            \n",
            "                                                                 \n",
            " conv2d_16 (Conv2D)          (None, 11, 11, 64)        18496     \n",
            "                                                                 \n",
            " max_pooling2d_7 (MaxPoolin  (None, 5, 5, 64)          0         \n",
            " g2D)                                                            \n",
            "                                                                 \n",
            " conv2d_17 (Conv2D)          (None, 3, 3, 64)          36928     \n",
            "                                                                 \n",
            " flatten_5 (Flatten)         (None, 576)               0         \n",
            "                                                                 \n",
            " dense_10 (Dense)            (None, 64)                36928     \n",
            "                                                                 \n",
            " dense_11 (Dense)            (None, 10)                650       \n",
            "                                                                 \n",
            "=================================================================\n",
            "Total params: 93322 (364.54 KB)\n",
            "Trainable params: 93322 (364.54 KB)\n",
            "Non-trainable params: 0 (0.00 Byte)\n",
            "_________________________________________________________________\n"
          ]
        }
      ]
    },
    {
      "cell_type": "markdown",
      "source": [
        "# 簡單的 LeNet-5 架構"
      ],
      "metadata": {
        "id": "Zrmb1SiNajTi"
      }
    },
    {
      "cell_type": "markdown",
      "source": [
        "step 1. 載入 MNIST 數據集"
      ],
      "metadata": {
        "id": "mWhVK7nxrNuI"
      }
    },
    {
      "cell_type": "code",
      "source": [
        "(x_train, y_train), (x_test, y_test) = tf.keras.datasets.mnist.load_data()\n",
        "x_train = x_train.reshape((x_train.shape[0], 28, 28, 1)).astype('float32') / 255\n",
        "x_test = x_test.reshape((x_test.shape[0], 28, 28, 1)).astype('float32') / 255"
      ],
      "metadata": {
        "id": "SdkfWJ93amXF"
      },
      "execution_count": 15,
      "outputs": []
    },
    {
      "cell_type": "markdown",
      "source": [
        "step 2. 建立簡單的 LeNet-5 模型"
      ],
      "metadata": {
        "id": "bfukrrZxrYH0"
      }
    },
    {
      "cell_type": "code",
      "source": [
        "model = models.Sequential([\n",
        "    layers.Conv2D(6, (5, 5), activation='relu', input_shape=(28, 28, 1)),\n",
        "    layers.AvgPool2D((2, 2)),\n",
        "    layers.Conv2D(16, (5, 5), activation='relu'),\n",
        "    layers.AvgPool2D((2, 2)),\n",
        "    layers.Conv2D(120, (3, 3), activation='relu'), # 使用 3x3 的卷積核\n",
        "    layers.Flatten(),\n",
        "    layers.Dense(84, activation='relu'),\n",
        "    layers.Dense(10, activation='softmax')\n",
        "])"
      ],
      "metadata": {
        "id": "lQiPts0rrReb"
      },
      "execution_count": 17,
      "outputs": []
    },
    {
      "cell_type": "markdown",
      "source": [
        "step 3. 編譯模型"
      ],
      "metadata": {
        "id": "aU7EQht-rjKd"
      }
    },
    {
      "cell_type": "code",
      "source": [
        "model.compile(optimizer='adam',\n",
        "              loss='sparse_categorical_crossentropy',\n",
        "              metrics=['accuracy'])"
      ],
      "metadata": {
        "id": "p8HrMuT4ri6P"
      },
      "execution_count": 18,
      "outputs": []
    },
    {
      "cell_type": "markdown",
      "source": [
        "step 4. 訓練"
      ],
      "metadata": {
        "id": "MTURqcdlroiW"
      }
    },
    {
      "cell_type": "code",
      "source": [
        "history = model.fit(x_train, y_train, epochs=5, batch_size=64, validation_split=0.1)"
      ],
      "metadata": {
        "colab": {
          "base_uri": "https://localhost:8080/"
        },
        "id": "XGgMe_irroRn",
        "outputId": "4e390fd0-4cd0-4e1a-e8a2-a8ad330aede1"
      },
      "execution_count": 19,
      "outputs": [
        {
          "output_type": "stream",
          "name": "stdout",
          "text": [
            "Epoch 1/5\n",
            "844/844 [==============================] - 7s 7ms/step - loss: 0.3184 - accuracy: 0.9045 - val_loss: 0.1062 - val_accuracy: 0.9678\n",
            "Epoch 2/5\n",
            "844/844 [==============================] - 6s 7ms/step - loss: 0.0896 - accuracy: 0.9725 - val_loss: 0.0642 - val_accuracy: 0.9820\n",
            "Epoch 3/5\n",
            "844/844 [==============================] - 6s 7ms/step - loss: 0.0643 - accuracy: 0.9801 - val_loss: 0.0490 - val_accuracy: 0.9843\n",
            "Epoch 4/5\n",
            "844/844 [==============================] - 6s 7ms/step - loss: 0.0503 - accuracy: 0.9846 - val_loss: 0.0493 - val_accuracy: 0.9867\n",
            "Epoch 5/5\n",
            "844/844 [==============================] - 6s 7ms/step - loss: 0.0432 - accuracy: 0.9862 - val_loss: 0.0525 - val_accuracy: 0.9832\n"
          ]
        }
      ]
    },
    {
      "cell_type": "markdown",
      "source": [
        "step 5. 評估"
      ],
      "metadata": {
        "id": "--_iYd89rtzK"
      }
    },
    {
      "cell_type": "code",
      "source": [
        "test_loss, test_acc = model.evaluate(x_test, y_test)\n",
        "print(f'Test accuracy: {test_acc}')"
      ],
      "metadata": {
        "colab": {
          "base_uri": "https://localhost:8080/"
        },
        "id": "SxMigGh5rq52",
        "outputId": "33c241a7-c9f4-4127-e1d0-cb5ed66484b5"
      },
      "execution_count": 20,
      "outputs": [
        {
          "output_type": "stream",
          "name": "stdout",
          "text": [
            "313/313 [==============================] - 1s 3ms/step - loss: 0.0490 - accuracy: 0.9840\n",
            "Test accuracy: 0.984000027179718\n"
          ]
        }
      ]
    },
    {
      "cell_type": "code",
      "source": [
        "# 6. 繪製訓練過程中的準確率變化\n",
        "plt.plot(history.history['accuracy'], label='accuracy')\n",
        "plt.plot(history.history['val_accuracy'], label = 'val_accuracy')\n",
        "plt.xlabel('Epoch')\n",
        "plt.ylabel('Accuracy')\n",
        "plt.ylim([0, 1])\n",
        "plt.legend(loc='lower right')\n",
        "plt.show()"
      ],
      "metadata": {
        "colab": {
          "base_uri": "https://localhost:8080/",
          "height": 455
        },
        "id": "P4aHjdEdrzPO",
        "outputId": "2198e91a-2ed8-46b1-c171-fcd609a37e06"
      },
      "execution_count": 21,
      "outputs": [
        {
          "output_type": "display_data",
          "data": {
            "text/plain": [
              "<Figure size 640x480 with 1 Axes>"
            ],
            "image/png": "[encoded data removed]"
          },
          "metadata": {}
        }
      ]
    },
    {
      "cell_type": "code",
      "source": [
        "# 檢查模型架構\n",
        "model.summary()"
      ],
      "metadata": {
        "colab": {
          "base_uri": "https://localhost:8080/"
        },
        "id": "-T8dJJKtsq6F",
        "outputId": "5967d57c-762b-4ce7-df35-155f8d198bed"
      },
      "execution_count": 22,
      "outputs": [
        {
          "output_type": "stream",
          "name": "stdout",
          "text": [
            "Model: \"sequential_4\"\n",
            "_________________________________________________________________\n",
            " Layer (type)                Output Shape              Param #   \n",
            "=================================================================\n",
            " conv2d_12 (Conv2D)          (None, 24, 24, 6)         156       \n",
            "                                                                 \n",
            " average_pooling2d_2 (Avera  (None, 12, 12, 6)         0         \n",
            " gePooling2D)                                                    \n",
            "                                                                 \n",
            " conv2d_13 (Conv2D)          (None, 8, 8, 16)          2416      \n",
            "                                                                 \n",
            " average_pooling2d_3 (Avera  (None, 4, 4, 16)          0         \n",
            " gePooling2D)                                                    \n",
            "                                                                 \n",
            " conv2d_14 (Conv2D)          (None, 2, 2, 120)         17400     \n",
            "                                                                 \n",
            " flatten_4 (Flatten)         (None, 480)               0         \n",
            "                                                                 \n",
            " dense_8 (Dense)             (None, 84)                40404     \n",
            "                                                                 \n",
            " dense_9 (Dense)             (None, 10)                850       \n",
            "                                                                 \n",
            "=================================================================\n",
            "Total params: 61226 (239.16 KB)\n",
            "Trainable params: 61226 (239.16 KB)\n",
            "Non-trainable params: 0 (0.00 Byte)\n",
            "_________________________________________________________________\n"
          ]
        }
      ]
    }
  ]
}